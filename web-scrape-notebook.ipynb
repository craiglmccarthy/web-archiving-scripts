{
 "cells": [
  {
   "cell_type": "code",
   "execution_count": null,
   "metadata": {},
   "outputs": [],
   "source": [
    "import itertools\n",
    "import pickle\n",
    "from urllib.parse import urlparse\n",
    "\n",
    "import pandas as pd\n",
    "from bs4 import BeautifulSoup"
   ]
  },
  {
   "cell_type": "markdown",
   "metadata": {},
   "source": [
    "## Load Pickle file"
   ]
  },
  {
   "cell_type": "code",
   "execution_count": null,
   "metadata": {},
   "outputs": [],
   "source": [
    "file = open(input('Path to pickle file: '), \"rb\")\n",
    "output = pickle.load(file)"
   ]
  },
  {
   "cell_type": "markdown",
   "metadata": {},
   "source": [
    "## Function definitions"
   ]
  },
  {
   "cell_type": "code",
   "execution_count": null,
   "metadata": {},
   "outputs": [],
   "source": [
    "def print_k_v(key, value):\n",
    "    print(f'URL: {key}\\n\\n{value.strip()}')\n",
    "    \n",
    "def get_links(page):\n",
    "    \"\"\"Get hrefs from <a> and return list\"\"\"\n",
    "    link_list = []\n",
    "    soup = BeautifulSoup(page, \"html.parser\")\n",
    "    links = soup.findAll('a')\n",
    "    for link in links:\n",
    "        try:\n",
    "            link_list.append(link[\"href\"])\n",
    "        except Exception as e:\n",
    "            pass\n",
    "    return link_list\n",
    "\n",
    "def element_test(page, tag, attr_type, attr_val):\n",
    "    \"\"\"Return True or False if HTML contains element as defined in soup.findAll\"\"\"\n",
    "    soup = BeautifulSoup(page, \"html.parser\")\n",
    "    out = soup.findAll(tag, attrs={attr_type: attr_val})\n",
    "    return bool(out)\n",
    "\n",
    "def reduce_dict_size(dictionary, N):\n",
    "    \"\"\"This reduces dict size to N, used for testing notebook\"\"\"\n",
    "    return dict(itertools.islice(output.items(), N))"
   ]
  },
  {
   "cell_type": "code",
   "execution_count": null,
   "metadata": {},
   "outputs": [],
   "source": [
    "# Reduce dictionary size - for testing purposes\n",
    "# output = reduce_dict_size(output, 100)"
   ]
  },
  {
   "cell_type": "markdown",
   "metadata": {},
   "source": [
    "## Loop of main {URL:HTML content} dictionary"
   ]
  },
  {
   "cell_type": "code",
   "execution_count": null,
   "metadata": {},
   "outputs": [],
   "source": [
    "# Build lists\n",
    "more_link_list = []\n",
    "accordion_list = []\n",
    "tab_list = []\n",
    "\n",
    "# Main loop\n",
    "for url, page in output.items():\n",
    "    # Gets list of links\n",
    "#     links = get_links(page)\n",
    "        \n",
    "    # Build list of Boolean values - More-link\n",
    "    if element_test(page, tag=\"div\", attr_type=\"class\", attr_val=\"more-link\"):\n",
    "        more_link_list.append(True)\n",
    "    else:\n",
    "        more_link_list.append(False)\n",
    "        \n",
    "    # Build list of Boolean values - Accordion-wrapper\n",
    "    if element_test(page, tag=\"section\", attr_type=\"class\", attr_val=\"accordion-wrapper\"):\n",
    "        accordion_list.append(True)\n",
    "    else:\n",
    "        accordion_list.append(False)\n",
    "        \n",
    "    # Build list of Boolean values - Tab-placeholder\n",
    "    if element_test(page, tag=\"div\", attr_type=\"class\", attr_val=\"tab-placeholder\"):\n",
    "        tab_list.append(True)\n",
    "    else:\n",
    "        tab_list.append(False)"
   ]
  },
  {
   "cell_type": "markdown",
   "metadata": {},
   "source": [
    "## Create DataFrame"
   ]
  },
  {
   "cell_type": "code",
   "execution_count": null,
   "metadata": {},
   "outputs": [],
   "source": [
    "pd.set_option('display.max_rows', 1000) # Notebook display option\n",
    "df = pd.DataFrame.from_dict(output, orient = 'index')\n",
    "df = df.drop(df.columns[0], axis=1) # Drop HTML content from df\n",
    "\n",
    "# Add df columns\n",
    "df[\"More-link\"] = more_link_list\n",
    "df[\"Accordion-wrapper\"] = accordion_list\n",
    "df[\"Tab-placeholder\"] = tab_list\n",
    "\n",
    "# Display notebook\n",
    "df"
   ]
  },
  {
   "cell_type": "markdown",
   "metadata": {},
   "source": [
    "## Output to Excel"
   ]
  },
  {
   "cell_type": "code",
   "execution_count": null,
   "metadata": {},
   "outputs": [],
   "source": [
    "df.to_excel('df_out.xlsx')"
   ]
  }
 ],
 "metadata": {
  "kernelspec": {
   "display_name": "Python 3",
   "language": "python",
   "name": "python3"
  },
  "language_info": {
   "codemirror_mode": {
    "name": "ipython",
    "version": 3
   },
   "file_extension": ".py",
   "mimetype": "text/x-python",
   "name": "python",
   "nbconvert_exporter": "python",
   "pygments_lexer": "ipython3",
   "version": "3.7.6"
  }
 },
 "nbformat": 4,
 "nbformat_minor": 4
}